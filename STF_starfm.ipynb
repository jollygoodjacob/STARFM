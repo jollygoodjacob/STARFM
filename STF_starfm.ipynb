{
  "nbformat": 4,
  "nbformat_minor": 0,
  "metadata": {
    "colab": {
      "provenance": [],
      "mount_file_id": "https://github.com/jollygoodjacob/STF/blob/main/STF_starfm.ipynb",
      "authorship_tag": "ABX9TyNzALPIuasHSGtlvOyAq0rz",
      "include_colab_link": true
    },
    "kernelspec": {
      "name": "python3",
      "display_name": "Python 3"
    },
    "language_info": {
      "name": "python"
    }
  },
  "cells": [
    {
      "cell_type": "markdown",
      "metadata": {
        "id": "view-in-github",
        "colab_type": "text"
      },
      "source": [
        "<a href=\"https://colab.research.google.com/github/jollygoodjacob/STF/blob/main/STF_starfm.ipynb\" target=\"_parent\"><img src=\"https://colab.research.google.com/assets/colab-badge.svg\" alt=\"Open In Colab\"/></a>"
      ]
    },
    {
      "cell_type": "markdown",
      "source": [
        "# STARFM for Spatiotemporal Fusion\n",
        "\n",
        "This Google Colab script is an implementation of the STARFM spatiotemporal fusion method, modified for use with UAV and Planet data."
      ],
      "metadata": {
        "id": "OdkHWBzGfefU"
      }
    },
    {
      "cell_type": "markdown",
      "source": [
        "## Install required packages\n",
        "\n",
        "First, we need to install rasterio using pip, as Google Colab does not come preinstalled with this package."
      ],
      "metadata": {
        "id": "MNEQ5Qb-kMr6"
      }
    },
    {
      "cell_type": "code",
      "source": [
        "!pip install rasterio\n",
        "!pip install zarr\n",
        "!pip install dask.array"
      ],
      "metadata": {
        "id": "GnTZnTeUhIWD",
        "colab": {
          "base_uri": "https://localhost:8080/"
        },
        "outputId": "57bbef66-bf64-439a-b6a0-de97dde340e5"
      },
      "execution_count": null,
      "outputs": [
        {
          "output_type": "stream",
          "name": "stdout",
          "text": [
            "Requirement already satisfied: rasterio in /usr/local/lib/python3.11/dist-packages (1.4.3)\n",
            "Requirement already satisfied: affine in /usr/local/lib/python3.11/dist-packages (from rasterio) (2.4.0)\n",
            "Requirement already satisfied: attrs in /usr/local/lib/python3.11/dist-packages (from rasterio) (25.3.0)\n",
            "Requirement already satisfied: certifi in /usr/local/lib/python3.11/dist-packages (from rasterio) (2025.1.31)\n",
            "Requirement already satisfied: click>=4.0 in /usr/local/lib/python3.11/dist-packages (from rasterio) (8.1.8)\n",
            "Requirement already satisfied: cligj>=0.5 in /usr/local/lib/python3.11/dist-packages (from rasterio) (0.7.2)\n",
            "Requirement already satisfied: numpy>=1.24 in /usr/local/lib/python3.11/dist-packages (from rasterio) (2.0.2)\n",
            "Requirement already satisfied: click-plugins in /usr/local/lib/python3.11/dist-packages (from rasterio) (1.1.1)\n",
            "Requirement already satisfied: pyparsing in /usr/local/lib/python3.11/dist-packages (from rasterio) (3.2.3)\n",
            "Collecting zarr\n",
            "  Downloading zarr-3.0.6-py3-none-any.whl.metadata (9.7 kB)\n",
            "Collecting donfig>=0.8 (from zarr)\n",
            "  Downloading donfig-0.8.1.post1-py3-none-any.whl.metadata (5.0 kB)\n",
            "Collecting numcodecs>=0.14 (from numcodecs[crc32c]>=0.14->zarr)\n",
            "  Downloading numcodecs-0.16.0-cp311-cp311-manylinux_2_17_x86_64.manylinux2014_x86_64.whl.metadata (3.0 kB)\n",
            "Requirement already satisfied: numpy>=1.25 in /usr/local/lib/python3.11/dist-packages (from zarr) (2.0.2)\n",
            "Requirement already satisfied: packaging>=22.0 in /usr/local/lib/python3.11/dist-packages (from zarr) (24.2)\n",
            "Requirement already satisfied: typing-extensions>=4.9 in /usr/local/lib/python3.11/dist-packages (from zarr) (4.13.1)\n",
            "Requirement already satisfied: pyyaml in /usr/local/lib/python3.11/dist-packages (from donfig>=0.8->zarr) (6.0.2)\n",
            "Collecting crc32c>=2.7 (from numcodecs[crc32c]>=0.14->zarr)\n",
            "  Downloading crc32c-2.7.1-cp311-cp311-manylinux_2_5_x86_64.manylinux1_x86_64.manylinux_2_17_x86_64.manylinux2014_x86_64.whl.metadata (7.3 kB)\n",
            "Downloading zarr-3.0.6-py3-none-any.whl (196 kB)\n",
            "\u001b[2K   \u001b[90m━━━━━━━━━━━━━━━━━━━━━━━━━━━━━━━━━━━━━━━━\u001b[0m \u001b[32m196.4/196.4 kB\u001b[0m \u001b[31m4.5 MB/s\u001b[0m eta \u001b[36m0:00:00\u001b[0m\n",
            "\u001b[?25hDownloading donfig-0.8.1.post1-py3-none-any.whl (21 kB)\n",
            "Downloading numcodecs-0.16.0-cp311-cp311-manylinux_2_17_x86_64.manylinux2014_x86_64.whl (8.8 MB)\n",
            "\u001b[2K   \u001b[90m━━━━━━━━━━━━━━━━━━━━━━━━━━━━━━━━━━━━━━━━\u001b[0m \u001b[32m8.8/8.8 MB\u001b[0m \u001b[31m64.8 MB/s\u001b[0m eta \u001b[36m0:00:00\u001b[0m\n",
            "\u001b[?25hDownloading crc32c-2.7.1-cp311-cp311-manylinux_2_5_x86_64.manylinux1_x86_64.manylinux_2_17_x86_64.manylinux2014_x86_64.whl (53 kB)\n",
            "\u001b[2K   \u001b[90m━━━━━━━━━━━━━━━━━━━━━━━━━━━━━━━━━━━━━━━━\u001b[0m \u001b[32m53.7/53.7 kB\u001b[0m \u001b[31m4.1 MB/s\u001b[0m eta \u001b[36m0:00:00\u001b[0m\n",
            "\u001b[?25hInstalling collected packages: numcodecs, donfig, crc32c, zarr\n",
            "Successfully installed crc32c-2.7.1 donfig-0.8.1.post1 numcodecs-0.16.0 zarr-3.0.6\n",
            "\u001b[31mERROR: Could not find a version that satisfies the requirement dask.array (from versions: none)\u001b[0m\u001b[31m\n",
            "\u001b[0m\u001b[31mERROR: No matching distribution found for dask.array\u001b[0m\u001b[31m\n",
            "\u001b[0m"
          ]
        }
      ]
    },
    {
      "cell_type": "markdown",
      "source": [
        "## Mount Google Drive and Load Functions for STARFM\n",
        "\n",
        "Next, we want to mount our Google Drive so that we can share data with our Google Colab script. We need both the starfm4py.py and parameters.py functions that are required to run the script, as well as our UAV and Planet data."
      ],
      "metadata": {
        "id": "4OP1XZnj7Jp1"
      }
    },
    {
      "cell_type": "code",
      "source": [
        "# Mount Google Drive\n",
        "from google.colab import drive\n",
        "drive.mount('/content/drive')\n",
        "\n",
        "# Add your module directory to the Python path\n",
        "import sys\n",
        "sys.path.append('/content/drive/MyDrive/STF')\n",
        "\n",
        "# (Optional) Set working directory for reading TIFFs or output\n",
        "import os\n",
        "os.chdir('/content/drive/MyDrive/STF')\n",
        "\n",
        "# Enable auto-reload of modules\n",
        "%load_ext autoreload\n",
        "%autoreload 2\n",
        "\n",
        "# Try importing your values\n",
        "from parameters import path, sizeSlices\n",
        "print(\"Imported values:\", path, sizeSlices)\n",
        "\n",
        "# Try importing the STARFM module\n",
        "import starfm4py as stp\n",
        "print(\"Successfully imported starfm4py\")\n"
      ],
      "metadata": {
        "colab": {
          "base_uri": "https://localhost:8080/"
        },
        "id": "bzemgrbj7ild",
        "outputId": "aebf0e26-e2f4-4097-95ba-52e7a49c5f2b"
      },
      "execution_count": null,
      "outputs": [
        {
          "output_type": "stream",
          "name": "stdout",
          "text": [
            "Drive already mounted at /content/drive; to attempt to forcibly remount, call drive.mount(\"/content/drive\", force_remount=True).\n"
          ]
        }
      ]
    },
    {
      "cell_type": "markdown",
      "source": [
        "## Apply STARFM to our data"
      ],
      "metadata": {
        "id": "Zf0z5DYk7jP0"
      }
    },
    {
      "cell_type": "code",
      "execution_count": null,
      "metadata": {
        "id": "Kqfk1qVsfdMa"
      },
      "outputs": [],
      "source": [
        "# === Import Required Libraries ===\n",
        "\n",
        "import time  # For measuring execution time\n",
        "import rasterio  # For reading and writing raster (image) files, especially geospatial data like GeoTIFFs\n",
        "import numpy as np  # For numerical operations and array manipulation\n",
        "#import starfm4py as stp  # STARFM fusion module (commented out, assuming user would uncomment when used)\n",
        "import matplotlib.pyplot as plt  # For plotting images using matplotlib\n",
        "#from parameters import (path, sizeSlices)  # Optional: External parameters for reusability (commented out)\n",
        "\n",
        "\n",
        "start = time.time()  # Start a timer to measure how long the whole script takes\n",
        "\n",
        "# === Load Raster Data ===\n",
        "\n",
        "# Load the high-resolution UAV image at time t0\n",
        "product = rasterio.open('/content/drive/MyDrive/STF/20220802_RGB_UAV.tif')\n",
        "profile = product.profile  # Get metadata (e.g., dimensions, datatype, CRS, etc.)\n",
        "\n",
        "# Read the first band (assumes grayscale or single-band processing for simplicity)\n",
        "UAVt0 = rasterio.open('/content/drive/MyDrive/STF/20220802_RGB_UAV.tif').read(1)\n",
        "\n",
        "# Load the Planet satellite images at time t0 and t1\n",
        "Planett0 = rasterio.open('/content/drive/MyDrive/STF/20220802_RGB_Planet.tif').read(1)\n",
        "Planett1 = rasterio.open('/content/drive/MyDrive/STF/20220812_RGB_Planet.tif').read(1)\n",
        "\n",
        "# === Define Temporary Paths for Partitioned Tiles ===\n",
        "\n",
        "# These folders will store tiles (image patches) generated during partitioning\n",
        "path_fineRes_t0 = 'Temporary/Tiles_fineRes_t0/'\n",
        "path_coarseRes_t0 = 'Temporary/Tiles_coarseRes_t0/'\n",
        "path_coarseRes_t1 = 'Temporary/Tiles_fcoarseRes_t1/'\n",
        "\n",
        "# === Partition the Images ===\n",
        "# This step breaks the images into smaller tiles to be processed efficiently\n",
        "\n",
        "fine_image_t0_par = stp.partition(UAVt0, path_fineRes_t0)  # High-res UAV image\n",
        "coarse_image_t0_par = stp.partition(Planett0, path_coarseRes_t0)  # Coarse Planet image at t0\n",
        "coarse_image_t1_par = stp.partition(Planett1, path_coarseRes_t1)  # Coarse Planet image at t1\n",
        "\n",
        "print(\"Done partitioning!\")\n",
        "\n",
        "# === Stack the Partitioned Tiles into Dask Arrays ===\n",
        "# Dask arrays allow chunked and parallel computation for large data\n",
        "\n",
        "S2_t0 = stp.da_stack(path_fineRes_t0, UAVt0.shape)      # Stack of fine resolution UAV tiles\n",
        "S3_t0 = stp.da_stack(path_coarseRes_t0, Planett0.shape)  # Stack of Planet t0 tiles\n",
        "S3_t1 = stp.da_stack(path_coarseRes_t1, Planett1.shape)  # Stack of Planet t1 tiles\n",
        "\n",
        "# Define the shape of each processing block: (number of rows per slice, total number of columns)\n",
        "shape = (sizeSlices, UAVt0.shape[1])\n",
        "\n",
        "print(\"Done stacking!\")\n",
        "\n",
        "# === STARFM Fusion Prediction ===\n",
        "# Loop through the image in chunks and apply STARFM to each\n",
        "\n",
        "for i in range(0, UAVt0.size - sizeSlices * shape[1] + 1, sizeSlices * shape[1]):\n",
        "    # Extract each chunk from the stacked arrays\n",
        "    fine_image_t0 = S2_t0[i:i + sizeSlices * shape[1], :]\n",
        "    coarse_image_t0 = S3_t0[i:i + sizeSlices * shape[1], :]\n",
        "    coarse_image_t1 = S3_t1[i:i + sizeSlices * shape[1], :]\n",
        "\n",
        "    # Perform STARFM prediction for the chunk\n",
        "    prediction = stp.starfm(fine_image_t0, coarse_image_t0, coarse_image_t1, profile, shape)\n",
        "\n",
        "    # Concatenate predictions into a full image\n",
        "    if i == 0:\n",
        "        predictions = prediction\n",
        "    else:\n",
        "        predictions = np.append(predictions, prediction, axis=0)\n",
        "\n",
        "# === Write Prediction to GeoTIFF File ===\n",
        "\n",
        "print('Writing product...')\n",
        "\n",
        "# Update metadata for output (set datatype and number of bands)\n",
        "profile = product.profile\n",
        "profile.update(dtype='float64', count=1)\n",
        "\n",
        "file_name = path + 'prediction.tif'  # Output file path\n",
        "\n",
        "# Write the final fused prediction image to disk\n",
        "result = rasterio.open(file_name, 'w', **profile)\n",
        "result.write(predictions, 1)  # Write to the first band\n",
        "result.close()\n",
        "\n",
        "\n",
        "# === Report Total Runtime ===\n",
        "\n",
        "end = time.time()\n",
        "print(\"Done in\", (end - start)/60.0, \"minutes!\")\n",
        "\n",
        "\n",
        "# === Visualize the Inputs and Output ===\n",
        "\n",
        "# UAV image (high-resolution, time t0)\n",
        "plt.imshow(UAVt0)\n",
        "plt.gray()\n",
        "plt.show()\n",
        "\n",
        "# Planet image (coarse-resolution, time t0)\n",
        "plt.imshow(Planett0)\n",
        "plt.gray()\n",
        "plt.show()\n",
        "\n",
        "# Planet image (coarse-resolution, time t1)\n",
        "plt.imshow(Planett1)\n",
        "plt.gray()\n",
        "plt.show()\n",
        "\n",
        "# Predicted high-resolution image for time t1 (fused)\n",
        "plt.imshow(predictions)\n",
        "plt.gray()\n",
        "plt.show()"
      ]
    }
  ]
}