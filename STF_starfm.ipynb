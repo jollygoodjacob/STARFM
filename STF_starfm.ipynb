{
  "nbformat": 4,
  "nbformat_minor": 0,
  "metadata": {
    "colab": {
      "provenance": [],
      "mount_file_id": "https://github.com/jollygoodjacob/STF/blob/main/STF_starfm.ipynb",
      "authorship_tag": "ABX9TyNBrzZXCcjUf1gRkscINJPw",
      "include_colab_link": true
    },
    "kernelspec": {
      "name": "python3",
      "display_name": "Python 3"
    },
    "language_info": {
      "name": "python"
    }
  },
  "cells": [
    {
      "cell_type": "markdown",
      "metadata": {
        "id": "view-in-github",
        "colab_type": "text"
      },
      "source": [
        "<a href=\"https://colab.research.google.com/github/jollygoodjacob/STF/blob/main/STF_starfm.ipynb\" target=\"_parent\"><img src=\"https://colab.research.google.com/assets/colab-badge.svg\" alt=\"Open In Colab\"/></a>"
      ]
    },
    {
      "cell_type": "markdown",
      "source": [
        "# STARFM for Spatiotemporal Fusion\n",
        "\n",
        "This Google Colab script is an implementation of the STARFM spatiotemporal fusion method, modified for use with UAV and Planet data."
      ],
      "metadata": {
        "id": "OdkHWBzGfefU"
      }
    },
    {
      "cell_type": "markdown",
      "source": [
        "## Install required packages\n",
        "\n",
        "First, we need to install rasterio using pip, as Google Colab does not come preinstalled with this package."
      ],
      "metadata": {
        "id": "MNEQ5Qb-kMr6"
      }
    },
    {
      "cell_type": "code",
      "source": [
        "!pip install rasterio"
      ],
      "metadata": {
        "id": "GnTZnTeUhIWD",
        "colab": {
          "base_uri": "https://localhost:8080/"
        },
        "outputId": "027ae36c-755e-4a53-9954-b5a1d25a3adf"
      },
      "execution_count": 2,
      "outputs": [
        {
          "output_type": "stream",
          "name": "stdout",
          "text": [
            "Collecting rasterio\n",
            "  Downloading rasterio-1.4.3-cp311-cp311-manylinux_2_17_x86_64.manylinux2014_x86_64.whl.metadata (9.1 kB)\n",
            "Collecting affine (from rasterio)\n",
            "  Downloading affine-2.4.0-py3-none-any.whl.metadata (4.0 kB)\n",
            "Requirement already satisfied: attrs in /usr/local/lib/python3.11/dist-packages (from rasterio) (25.3.0)\n",
            "Requirement already satisfied: certifi in /usr/local/lib/python3.11/dist-packages (from rasterio) (2025.1.31)\n",
            "Requirement already satisfied: click>=4.0 in /usr/local/lib/python3.11/dist-packages (from rasterio) (8.1.8)\n",
            "Collecting cligj>=0.5 (from rasterio)\n",
            "  Downloading cligj-0.7.2-py3-none-any.whl.metadata (5.0 kB)\n",
            "Requirement already satisfied: numpy>=1.24 in /usr/local/lib/python3.11/dist-packages (from rasterio) (2.0.2)\n",
            "Collecting click-plugins (from rasterio)\n",
            "  Downloading click_plugins-1.1.1-py2.py3-none-any.whl.metadata (6.4 kB)\n",
            "Requirement already satisfied: pyparsing in /usr/local/lib/python3.11/dist-packages (from rasterio) (3.2.3)\n",
            "Downloading rasterio-1.4.3-cp311-cp311-manylinux_2_17_x86_64.manylinux2014_x86_64.whl (22.2 MB)\n",
            "\u001b[2K   \u001b[90m━━━━━━━━━━━━━━━━━━━━━━━━━━━━━━━━━━━━━━━━\u001b[0m \u001b[32m22.2/22.2 MB\u001b[0m \u001b[31m33.6 MB/s\u001b[0m eta \u001b[36m0:00:00\u001b[0m\n",
            "\u001b[?25hDownloading cligj-0.7.2-py3-none-any.whl (7.1 kB)\n",
            "Downloading affine-2.4.0-py3-none-any.whl (15 kB)\n",
            "Downloading click_plugins-1.1.1-py2.py3-none-any.whl (7.5 kB)\n",
            "Installing collected packages: cligj, click-plugins, affine, rasterio\n",
            "Successfully installed affine-2.4.0 click-plugins-1.1.1 cligj-0.7.2 rasterio-1.4.3\n"
          ]
        }
      ]
    },
    {
      "cell_type": "markdown",
      "source": [
        "## Mount Google Drive\n",
        "\n",
        "Next, we want to mount our Google Drive so that we can share data with our Google Colab script. We need both the starfm4py.py and parameters.py functions that are required to run the script, as well as our UAV and Planet data."
      ],
      "metadata": {
        "id": "-BTI3hKwkbFr"
      }
    },
    {
      "cell_type": "code",
      "source": [
        "from google.colab import drive\n",
        "drive.mount('/content/drive')"
      ],
      "metadata": {
        "id": "x3aRR18Wkaj6",
        "colab": {
          "base_uri": "https://localhost:8080/"
        },
        "outputId": "fea6dbf3-1c3d-4f43-89ad-80b582cc14c7"
      },
      "execution_count": 3,
      "outputs": [
        {
          "output_type": "stream",
          "name": "stdout",
          "text": [
            "Drive already mounted at /content/drive; to attempt to forcibly remount, call drive.mount(\"/content/drive\", force_remount=True).\n"
          ]
        }
      ]
    },
    {
      "cell_type": "markdown",
      "source": [],
      "metadata": {
        "id": "4g8zStr57mA0"
      }
    },
    {
      "cell_type": "markdown",
      "source": [
        "## Load Functions for STARFM"
      ],
      "metadata": {
        "id": "4OP1XZnj7Jp1"
      }
    },
    {
      "cell_type": "code",
      "source": [
        "import sys\n",
        "sys.path.append('/content/drive/MyDrive/STF')\n",
        "\n",
        "from parameters import (path, sizeSlices)\n",
        "import starfm4py as stp"
      ],
      "metadata": {
        "colab": {
          "base_uri": "https://localhost:8080/",
          "height": 364
        },
        "id": "bzemgrbj7ild",
        "outputId": "4a97150d-5b6a-463d-99a7-ddc6383dc500"
      },
      "execution_count": 6,
      "outputs": [
        {
          "output_type": "error",
          "ename": "ModuleNotFoundError",
          "evalue": "No module named 'starfm4py'",
          "traceback": [
            "\u001b[0;31m---------------------------------------------------------------------------\u001b[0m",
            "\u001b[0;31mModuleNotFoundError\u001b[0m                       Traceback (most recent call last)",
            "\u001b[0;32m<ipython-input-6-83cd90dbb4d6>\u001b[0m in \u001b[0;36m<cell line: 0>\u001b[0;34m()\u001b[0m\n\u001b[1;32m      3\u001b[0m \u001b[0;34m\u001b[0m\u001b[0m\n\u001b[1;32m      4\u001b[0m \u001b[0;31m#from parameters import (path, sizeSlices)\u001b[0m\u001b[0;34m\u001b[0m\u001b[0;34m\u001b[0m\u001b[0m\n\u001b[0;32m----> 5\u001b[0;31m \u001b[0;32mimport\u001b[0m \u001b[0mstarfm4py\u001b[0m \u001b[0;32mas\u001b[0m \u001b[0mstp\u001b[0m\u001b[0;34m\u001b[0m\u001b[0;34m\u001b[0m\u001b[0m\n\u001b[0m",
            "\u001b[0;31mModuleNotFoundError\u001b[0m: No module named 'starfm4py'",
            "",
            "\u001b[0;31m---------------------------------------------------------------------------\u001b[0;32m\nNOTE: If your import is failing due to a missing package, you can\nmanually install dependencies using either !pip or !apt.\n\nTo view examples of installing some common dependencies, click the\n\"Open Examples\" button below.\n\u001b[0;31m---------------------------------------------------------------------------\u001b[0m\n"
          ],
          "errorDetails": {
            "actions": [
              {
                "action": "open_url",
                "actionText": "Open Examples",
                "url": "/notebooks/snippets/importing_libraries.ipynb"
              }
            ]
          }
        }
      ]
    },
    {
      "cell_type": "markdown",
      "source": [
        "## Applt STARFM to our data"
      ],
      "metadata": {
        "id": "Zf0z5DYk7jP0"
      }
    },
    {
      "cell_type": "code",
      "execution_count": null,
      "metadata": {
        "colab": {
          "base_uri": "https://localhost:8080/",
          "height": 401
        },
        "id": "Kqfk1qVsfdMa",
        "outputId": "0c56c5ca-36df-47f1-a878-60a38324d707"
      },
      "outputs": [
        {
          "output_type": "error",
          "ename": "ModuleNotFoundError",
          "evalue": "No module named 'parameters'",
          "traceback": [
            "\u001b[0;31m---------------------------------------------------------------------------\u001b[0m",
            "\u001b[0;31mModuleNotFoundError\u001b[0m                       Traceback (most recent call last)",
            "\u001b[0;32m<ipython-input-4-0663ebf6ca8b>\u001b[0m in \u001b[0;36m<cell line: 0>\u001b[0;34m()\u001b[0m\n\u001b[1;32m      6\u001b[0m \u001b[0;31m#import starfm4py as stp\u001b[0m\u001b[0;34m\u001b[0m\u001b[0;34m\u001b[0m\u001b[0m\n\u001b[1;32m      7\u001b[0m \u001b[0;32mimport\u001b[0m \u001b[0mmatplotlib\u001b[0m\u001b[0;34m.\u001b[0m\u001b[0mpyplot\u001b[0m \u001b[0;32mas\u001b[0m \u001b[0mplt\u001b[0m\u001b[0;34m\u001b[0m\u001b[0;34m\u001b[0m\u001b[0m\n\u001b[0;32m----> 8\u001b[0;31m \u001b[0;32mfrom\u001b[0m \u001b[0mparameters\u001b[0m \u001b[0;32mimport\u001b[0m \u001b[0;34m(\u001b[0m\u001b[0mpath\u001b[0m\u001b[0;34m,\u001b[0m \u001b[0msizeSlices\u001b[0m\u001b[0;34m)\u001b[0m\u001b[0;34m\u001b[0m\u001b[0;34m\u001b[0m\u001b[0m\n\u001b[0m\u001b[1;32m      9\u001b[0m \u001b[0;34m\u001b[0m\u001b[0m\n\u001b[1;32m     10\u001b[0m \u001b[0;34m\u001b[0m\u001b[0m\n",
            "\u001b[0;31mModuleNotFoundError\u001b[0m: No module named 'parameters'",
            "",
            "\u001b[0;31m---------------------------------------------------------------------------\u001b[0;32m\nNOTE: If your import is failing due to a missing package, you can\nmanually install dependencies using either !pip or !apt.\n\nTo view examples of installing some common dependencies, click the\n\"Open Examples\" button below.\n\u001b[0;31m---------------------------------------------------------------------------\u001b[0m\n"
          ],
          "errorDetails": {
            "actions": [
              {
                "action": "open_url",
                "actionText": "Open Examples",
                "url": "/notebooks/snippets/importing_libraries.ipynb"
              }
            ]
          }
        }
      ],
      "source": [
        "# Import required packages\n",
        "\n",
        "import time\n",
        "import rasterio\n",
        "import numpy as np\n",
        "#import starfm4py as stp\n",
        "import matplotlib.pyplot as plt\n",
        "#from parameters import (path, sizeSlices)\n",
        "\n",
        "\n",
        "\n",
        "start = time.time()\n",
        "\n",
        "#Set the path where the images are stored\n",
        "product = rasterio.open('/content/drive/MyDrive/STF/sim_STARFM_image.tif')\n",
        "profile = product.profile\n",
        "UAVt0 = rasterio.open('/content/drive/MyDrive/STF/20220802_UAV_RGB.tif').read(1)\n",
        "Planett0 = rasterio.open('/content/drive/MyDrive/STF/20220802_182705_60_247e_3B_AnalyticMS_SR_8b_harmonized_clip.tif').read(1)\n",
        "Planett1 = rasterio.open('/content/drive/MyDrive/STF/20220812_182402_83_2480_3B_AnalyticMS_SR_8b_harmonized_clip.tif').read(1)\n",
        "\n",
        "# Set the path where to store the temporary results\n",
        "path_fineRes_t0 = 'Temporary/Tiles_fineRes_t0/'\n",
        "path_coarseRes_t0 = 'Temporary/Tiles_coarseRes_t0/'\n",
        "path_coarseRes_t1 = 'Temporary/Tiles_fcoarseRes_t1/'\n",
        "\n",
        "# Flatten and store the moving window patches\n",
        "fine_image_t0_par = stp.partition(UAVT0, path_fineRes_t0)\n",
        "coarse_image_t0_par = stp.partition(Planett0, path_coarseRes_t0)\n",
        "coarse_image_t1_par = stp.partition(Planett1, path_coarseRes_t1)\n",
        "\n",
        "print (\"Done partitioning!\")\n",
        "\n",
        "# Stack the the moving window patches as dask arrays\n",
        "S2_t0 = stp.da_stack(path_fineRes_t0, UAVT0.shape)\n",
        "S3_t0 = stp.da_stack(path_coarseRes_t0, Planett0.shape)\n",
        "S3_t1 = stp.da_stack(path_coarseRes_t1, Planett1.shape)\n",
        "\n",
        "shape = (sizeSlices, UAVT0.shape[1])\n",
        "\n",
        "print (\"Done stacking!\")\n",
        "\n",
        "# Perform the prediction with STARFM\n",
        "for i in range(0, UAVT0.size-sizeSlices*shape[1]+1, sizeSlices*shape[1]):\n",
        "\n",
        "    fine_image_t0 = S2_t0[i:i+sizeSlices*shape[1],]\n",
        "    coarse_image_t0 = S3_t0[i:i+sizeSlices*shape[1],]\n",
        "    coarse_image_t1 = S3_t1[i:i+sizeSlices*shape[1],]\n",
        "    prediction = stp.starfm(fine_image_t0, coarse_image_t0, coarse_image_t1, profile, shape)\n",
        "\n",
        "    if i == 0:\n",
        "        predictions = prediction\n",
        "\n",
        "    else:\n",
        "        predictions = np.append(predictions, prediction, axis=0)\n",
        "\n",
        "\n",
        "# Write the results to a .tif file\n",
        "print ('Writing product...')\n",
        "profile = product.profile\n",
        "profile.update(dtype='float64', count=1) # number of bands\n",
        "file_name = path + 'prediction.tif'\n",
        "\n",
        "result = rasterio.open(file_name, 'w', **profile)\n",
        "result.write(predictions, 1)\n",
        "result.close()\n",
        "\n",
        "\n",
        "end = time.time()\n",
        "print (\"Done in\", (end - start)/60.0, \"minutes!\")\n",
        "\n",
        "# Display input and output\n",
        "plt.imshow(UAVT0)\n",
        "plt.gray()\n",
        "plt.show()\n",
        "plt.imshow(Planett0)\n",
        "plt.gray()\n",
        "plt.show()\n",
        "plt.imshow(Planett1)\n",
        "plt.gray()\n",
        "plt.show()\n",
        "plt.imshow(predictions)\n",
        "plt.gray()\n",
        "plt.show()"
      ]
    }
  ]
}