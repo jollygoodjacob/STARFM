{
  "nbformat": 4,
  "nbformat_minor": 0,
  "metadata": {
    "colab": {
      "provenance": [],
      "authorship_tag": "ABX9TyObrn6F8zzNPlz7TSSq+1zz",
      "include_colab_link": true
    },
    "kernelspec": {
      "name": "python3",
      "display_name": "Python 3"
    },
    "language_info": {
      "name": "python"
    }
  },
  "cells": [
    {
      "cell_type": "markdown",
      "metadata": {
        "id": "view-in-github",
        "colab_type": "text"
      },
      "source": [
        "<a href=\"https://colab.research.google.com/github/jollygoodjacob/STF/blob/main/STF_starfm.ipynb\" target=\"_parent\"><img src=\"https://colab.research.google.com/assets/colab-badge.svg\" alt=\"Open In Colab\"/></a>"
      ]
    },
    {
      "cell_type": "markdown",
      "source": [
        "# STARFM for Spatiotemporal Fusion\n",
        "\n",
        "This Google Colab script is an implementation of the STARFM spatiotemporal fusion method, modified for use with UAV and Planet data."
      ],
      "metadata": {
        "id": "OdkHWBzGfefU"
      }
    },
    {
      "cell_type": "code",
      "source": [],
      "metadata": {
        "id": "GnTZnTeUhIWD"
      },
      "execution_count": null,
      "outputs": []
    },
    {
      "cell_type": "code",
      "execution_count": 1,
      "metadata": {
        "colab": {
          "base_uri": "https://localhost:8080/",
          "height": 401
        },
        "id": "Kqfk1qVsfdMa",
        "outputId": "eee79c69-2802-4ca7-e8b8-eeaeded20854"
      },
      "outputs": [
        {
          "output_type": "error",
          "ename": "ModuleNotFoundError",
          "evalue": "No module named 'rasterio'",
          "traceback": [
            "\u001b[0;31m---------------------------------------------------------------------------\u001b[0m",
            "\u001b[0;31mModuleNotFoundError\u001b[0m                       Traceback (most recent call last)",
            "\u001b[0;32m<ipython-input-1-27b48fa93acb>\u001b[0m in \u001b[0;36m<cell line: 0>\u001b[0;34m()\u001b[0m\n\u001b[1;32m      2\u001b[0m \u001b[0;34m\u001b[0m\u001b[0m\n\u001b[1;32m      3\u001b[0m \u001b[0;32mimport\u001b[0m \u001b[0mtime\u001b[0m\u001b[0;34m\u001b[0m\u001b[0;34m\u001b[0m\u001b[0m\n\u001b[0;32m----> 4\u001b[0;31m \u001b[0;32mimport\u001b[0m \u001b[0mrasterio\u001b[0m\u001b[0;34m\u001b[0m\u001b[0;34m\u001b[0m\u001b[0m\n\u001b[0m\u001b[1;32m      5\u001b[0m \u001b[0;32mimport\u001b[0m \u001b[0mnumpy\u001b[0m \u001b[0;32mas\u001b[0m \u001b[0mnp\u001b[0m\u001b[0;34m\u001b[0m\u001b[0;34m\u001b[0m\u001b[0m\n\u001b[1;32m      6\u001b[0m \u001b[0;32mimport\u001b[0m \u001b[0mstarfm4py\u001b[0m \u001b[0;32mas\u001b[0m \u001b[0mstp\u001b[0m\u001b[0;34m\u001b[0m\u001b[0;34m\u001b[0m\u001b[0m\n",
            "\u001b[0;31mModuleNotFoundError\u001b[0m: No module named 'rasterio'",
            "",
            "\u001b[0;31m---------------------------------------------------------------------------\u001b[0;32m\nNOTE: If your import is failing due to a missing package, you can\nmanually install dependencies using either !pip or !apt.\n\nTo view examples of installing some common dependencies, click the\n\"Open Examples\" button below.\n\u001b[0;31m---------------------------------------------------------------------------\u001b[0m\n"
          ],
          "errorDetails": {
            "actions": [
              {
                "action": "open_url",
                "actionText": "Open Examples",
                "url": "/notebooks/snippets/importing_libraries.ipynb"
              }
            ]
          }
        }
      ],
      "source": [
        "# Import required packages\n",
        "\n",
        "import time\n",
        "import rasterio\n",
        "import numpy as np\n",
        "import starfm4py as stp\n",
        "import matplotlib.pyplot as plt\n",
        "from parameters import (path, sizeSlices)\n",
        "\n",
        "\n",
        "\n",
        "start = time.time()\n",
        "\n",
        "#Set the path where the images are stored\n",
        "product = rasterio.open('Test_3/sim_Landsat_t1.tif')\n",
        "profile = product.profile\n",
        "UAVt0 = rasterio.open('Test_3/sim_Landsat_t1.tif').read(1)\n",
        "Planett0 = rasterio.open('Test_3/sim_MODIS_t1.tif').read(1)\n",
        "Planett1 = rasterio.open('Test_3/sim_MODIS_t4.tif').read(1)\n",
        "\n",
        "# Set the path where to store the temporary results\n",
        "path_fineRes_t0 = 'Temporary/Tiles_fineRes_t0/'\n",
        "path_coarseRes_t0 = 'Temporary/Tiles_coarseRes_t0/'\n",
        "path_coarseRes_t1 = 'Temporary/Tiles_fcoarseRes_t1/'\n",
        "\n",
        "# Flatten and store the moving window patches\n",
        "fine_image_t0_par = stp.partition(UAVT0, path_fineRes_t0)\n",
        "coarse_image_t0_par = stp.partition(Planett0, path_coarseRes_t0)\n",
        "coarse_image_t1_par = stp.partition(Planett1, path_coarseRes_t1)\n",
        "\n",
        "print (\"Done partitioning!\")\n",
        "\n",
        "# Stack the the moving window patches as dask arrays\n",
        "S2_t0 = stp.da_stack(path_fineRes_t0, UAVT0.shape)\n",
        "S3_t0 = stp.da_stack(path_coarseRes_t0, Planett0.shape)\n",
        "S3_t1 = stp.da_stack(path_coarseRes_t1, Planett1.shape)\n",
        "\n",
        "shape = (sizeSlices, UAVT0.shape[1])\n",
        "\n",
        "print (\"Done stacking!\")\n",
        "\n",
        "# Perform the prediction with STARFM\n",
        "for i in range(0, UAVT0.size-sizeSlices*shape[1]+1, sizeSlices*shape[1]):\n",
        "\n",
        "    fine_image_t0 = S2_t0[i:i+sizeSlices*shape[1],]\n",
        "    coarse_image_t0 = S3_t0[i:i+sizeSlices*shape[1],]\n",
        "    coarse_image_t1 = S3_t1[i:i+sizeSlices*shape[1],]\n",
        "    prediction = stp.starfm(fine_image_t0, coarse_image_t0, coarse_image_t1, profile, shape)\n",
        "\n",
        "    if i == 0:\n",
        "        predictions = prediction\n",
        "\n",
        "    else:\n",
        "        predictions = np.append(predictions, prediction, axis=0)\n",
        "\n",
        "\n",
        "# Write the results to a .tif file\n",
        "print ('Writing product...')\n",
        "profile = product.profile\n",
        "profile.update(dtype='float64', count=1) # number of bands\n",
        "file_name = path + 'prediction.tif'\n",
        "\n",
        "result = rasterio.open(file_name, 'w', **profile)\n",
        "result.write(predictions, 1)\n",
        "result.close()\n",
        "\n",
        "\n",
        "end = time.time()\n",
        "print (\"Done in\", (end - start)/60.0, \"minutes!\")\n",
        "\n",
        "# Display input and output\n",
        "plt.imshow(UAVT0)\n",
        "plt.gray()\n",
        "plt.show()\n",
        "plt.imshow(Planett0)\n",
        "plt.gray()\n",
        "plt.show()\n",
        "plt.imshow(Planett1)\n",
        "plt.gray()\n",
        "plt.show()\n",
        "plt.imshow(predictions)\n",
        "plt.gray()\n",
        "plt.show()"
      ]
    }
  ]
}