{
  "nbformat": 4,
  "nbformat_minor": 0,
  "metadata": {
    "colab": {
      "provenance": [],
      "mount_file_id": "https://github.com/jollygoodjacob/STF/blob/main/STF_starfm.ipynb",
      "authorship_tag": "ABX9TyMzeYEH0x5UhAa5MguQked6",
      "include_colab_link": true
    },
    "kernelspec": {
      "name": "python3",
      "display_name": "Python 3"
    },
    "language_info": {
      "name": "python"
    }
  },
  "cells": [
    {
      "cell_type": "markdown",
      "metadata": {
        "id": "view-in-github",
        "colab_type": "text"
      },
      "source": [
        "<a href=\"https://colab.research.google.com/github/jollygoodjacob/STF/blob/main/STF_starfm.ipynb\" target=\"_parent\"><img src=\"https://colab.research.google.com/assets/colab-badge.svg\" alt=\"Open In Colab\"/></a>"
      ]
    },
    {
      "cell_type": "markdown",
      "source": [
        "# STARFM for Spatiotemporal Fusion\n",
        "\n",
        "This Google Colab script is an implementation of the STARFM spatiotemporal fusion method, modified for use with UAV and Planet data."
      ],
      "metadata": {
        "id": "OdkHWBzGfefU"
      }
    },
    {
      "cell_type": "markdown",
      "source": [
        "## Install required packages\n",
        "\n",
        "First, we need to install rasterio using pip, as Google Colab does not come preinstalled with this package."
      ],
      "metadata": {
        "id": "MNEQ5Qb-kMr6"
      }
    },
    {
      "cell_type": "code",
      "source": [
        "!pip install rasterio"
      ],
      "metadata": {
        "id": "GnTZnTeUhIWD",
        "colab": {
          "base_uri": "https://localhost:8080/"
        },
        "outputId": "06f9a36d-cf2c-43c0-bee2-6fb14766bedb"
      },
      "execution_count": 1,
      "outputs": [
        {
          "output_type": "stream",
          "name": "stdout",
          "text": [
            "Requirement already satisfied: rasterio in /usr/local/lib/python3.11/dist-packages (1.4.3)\n",
            "Requirement already satisfied: affine in /usr/local/lib/python3.11/dist-packages (from rasterio) (2.4.0)\n",
            "Requirement already satisfied: attrs in /usr/local/lib/python3.11/dist-packages (from rasterio) (25.3.0)\n",
            "Requirement already satisfied: certifi in /usr/local/lib/python3.11/dist-packages (from rasterio) (2025.1.31)\n",
            "Requirement already satisfied: click>=4.0 in /usr/local/lib/python3.11/dist-packages (from rasterio) (8.1.8)\n",
            "Requirement already satisfied: cligj>=0.5 in /usr/local/lib/python3.11/dist-packages (from rasterio) (0.7.2)\n",
            "Requirement already satisfied: numpy>=1.24 in /usr/local/lib/python3.11/dist-packages (from rasterio) (2.0.2)\n",
            "Requirement already satisfied: click-plugins in /usr/local/lib/python3.11/dist-packages (from rasterio) (1.1.1)\n",
            "Requirement already satisfied: pyparsing in /usr/local/lib/python3.11/dist-packages (from rasterio) (3.2.3)\n"
          ]
        }
      ]
    },
    {
      "cell_type": "markdown",
      "source": [
        "## Mount Google Drive\n",
        "\n",
        "Next, we want to mount our Google Drive so that we can share data with our Google Colab script. We need both the starfm4py.py and parameters.py functions that are required to run the script, as well as our UAV and Planet data."
      ],
      "metadata": {
        "id": "-BTI3hKwkbFr"
      }
    },
    {
      "cell_type": "code",
      "source": [
        "from google.colab import drive\n",
        "drive.mount('/content/drive',force_remount= True)"
      ],
      "metadata": {
        "id": "x3aRR18Wkaj6",
        "colab": {
          "base_uri": "https://localhost:8080/"
        },
        "outputId": "6daf3641-d593-4ec3-b38d-0a7c8c0ab2d3"
      },
      "execution_count": 4,
      "outputs": [
        {
          "output_type": "stream",
          "name": "stdout",
          "text": [
            "Mounted at /content/drive\n"
          ]
        }
      ]
    },
    {
      "cell_type": "markdown",
      "source": [],
      "metadata": {
        "id": "4g8zStr57mA0"
      }
    },
    {
      "cell_type": "code",
      "source": [
        "!cat /content/drive/MyDrive/STF/parameters.py"
      ],
      "metadata": {
        "id": "TCnYfMxBABbD",
        "outputId": "ad8129d6-7c33-45ea-ffba-bc7632510fc2",
        "colab": {
          "base_uri": "https://localhost:8080/"
        }
      },
      "execution_count": 14,
      "outputs": [
        {
          "output_type": "stream",
          "name": "stdout",
          "text": [
            "import numpy as np\r\n",
            "\r\n",
            "\r\n",
            "\r\n",
            "# Set the size of the moving window in which the search for similar pixels \r\n",
            "# is performed\r\n",
            "windowSize = 31\r\n",
            "\r\n",
            "# Set the path where the results should be stored\r\n",
            "path = 'STARFM_demo/'\r\n",
            "\r\n",
            "# Set to True if you want to decrease the sensitivity to the spectral distance\r\n",
            "logWeight = False\r\n",
            "\r\n",
            "# If more than one training pairs are used, set to True\r\n",
            "temp = False\r\n",
            "\r\n",
            "# The spatial impact factor is a constant defining the relative importance of \r\n",
            "# spatial distance (in meters)\r\n",
            "# Take a smaller value of the spatial impact factor for heterogeneous regions \r\n",
            "# (e.g. A = 150 m)\r\n",
            "spatImp = 150 \r\n",
            "\r\n",
            "# increasing the number of classes limits the number of similar pixels\r\n",
            "numberClass = 4 \r\n",
            "\r\n",
            "# Set the uncertainty value for the fine resolution sensor\r\n",
            "# https://earth.esa.int/web/sentinel/technical-guides/sentinel-2-msi/performance \r\n",
            "uncertaintyFineRes = 0.03\r\n",
            "\r\n",
            "# Set the uncertainty value for the coarse resolution sensor\r\n",
            "# https://sentinels.copernicus.eu/web/sentinel/technical-guides/sentinel-3-olci/validation\r\n",
            "uncertaintyCoarseRes = 0.03\r\n",
            "\r\n",
            "# Other global variables\r\n",
            "mid_idx = (windowSize**2)//2\r\n",
            "specUncertainty = np.sqrt(uncertaintyFineRes**2 + uncertaintyCoarseRes**2)\r\n",
            "tempUncertainty = np.sqrt(2*uncertaintyCoarseRes**2)\r\n",
            "\r\n",
            "# Set the size of the slices in which to divide the image\r\n",
            "# This number should be multiple of the image height and not bigger than it\r\n",
            "# Use bigger size for small images\r\n",
            "sizeSlices = 150\r\n",
            "\r\n",
            "\r\n",
            "\r\n",
            "\r\n",
            "\r\n"
          ]
        }
      ]
    },
    {
      "cell_type": "markdown",
      "source": [
        "## Load Functions for STARFM"
      ],
      "metadata": {
        "id": "4OP1XZnj7Jp1"
      }
    },
    {
      "cell_type": "code",
      "source": [
        "# Mount Google Drive\n",
        "from google.colab import drive\n",
        "drive.mount('/content/drive')\n",
        "\n",
        "# Add your module directory to the Python path\n",
        "import sys\n",
        "sys.path.append('/content/drive/MyDrive/STF')\n",
        "\n",
        "# (Optional) Set working directory for reading TIFFs or output\n",
        "import os\n",
        "os.chdir('/content/drive/MyDrive/STF')\n",
        "\n",
        "# Enable auto-reload of modules\n",
        "%load_ext autoreload\n",
        "%autoreload 2\n",
        "\n",
        "# Try importing your values\n",
        "from parameters import path, sizeSlices\n",
        "print(\"Imported values:\", path, sizeSlices)\n",
        "\n",
        "# Try importing the STARFM module\n",
        "import starfm4py as stp\n",
        "print(\"Successfully imported starfm4py\")\n"
      ],
      "metadata": {
        "colab": {
          "base_uri": "https://localhost:8080/",
          "height": 419
        },
        "id": "bzemgrbj7ild",
        "outputId": "37807e93-ad4f-4089-9cac-99edb4dfb370"
      },
      "execution_count": 15,
      "outputs": [
        {
          "output_type": "stream",
          "name": "stdout",
          "text": [
            "Drive already mounted at /content/drive; to attempt to forcibly remount, call drive.mount(\"/content/drive\", force_remount=True).\n"
          ]
        },
        {
          "output_type": "error",
          "ename": "ModuleNotFoundError",
          "evalue": "No module named 'parameters'",
          "traceback": [
            "\u001b[0;31m---------------------------------------------------------------------------\u001b[0m",
            "\u001b[0;31mModuleNotFoundError\u001b[0m                       Traceback (most recent call last)",
            "\u001b[0;32m<ipython-input-15-b62699df2af7>\u001b[0m in \u001b[0;36m<cell line: 0>\u001b[0;34m()\u001b[0m\n\u001b[1;32m     16\u001b[0m \u001b[0;34m\u001b[0m\u001b[0m\n\u001b[1;32m     17\u001b[0m \u001b[0;31m# Try importing your values\u001b[0m\u001b[0;34m\u001b[0m\u001b[0;34m\u001b[0m\u001b[0m\n\u001b[0;32m---> 18\u001b[0;31m \u001b[0;32mfrom\u001b[0m \u001b[0mparameters\u001b[0m \u001b[0;32mimport\u001b[0m \u001b[0mpath\u001b[0m\u001b[0;34m,\u001b[0m \u001b[0msizeSlices\u001b[0m\u001b[0;34m\u001b[0m\u001b[0;34m\u001b[0m\u001b[0m\n\u001b[0m\u001b[1;32m     19\u001b[0m \u001b[0mprint\u001b[0m\u001b[0;34m(\u001b[0m\u001b[0;34m\"Imported values:\"\u001b[0m\u001b[0;34m,\u001b[0m \u001b[0mpath\u001b[0m\u001b[0;34m,\u001b[0m \u001b[0msizeSlices\u001b[0m\u001b[0;34m)\u001b[0m\u001b[0;34m\u001b[0m\u001b[0;34m\u001b[0m\u001b[0m\n\u001b[1;32m     20\u001b[0m \u001b[0;34m\u001b[0m\u001b[0m\n",
            "\u001b[0;31mModuleNotFoundError\u001b[0m: No module named 'parameters'",
            "",
            "\u001b[0;31m---------------------------------------------------------------------------\u001b[0;32m\nNOTE: If your import is failing due to a missing package, you can\nmanually install dependencies using either !pip or !apt.\n\nTo view examples of installing some common dependencies, click the\n\"Open Examples\" button below.\n\u001b[0;31m---------------------------------------------------------------------------\u001b[0m\n"
          ],
          "errorDetails": {
            "actions": [
              {
                "action": "open_url",
                "actionText": "Open Examples",
                "url": "/notebooks/snippets/importing_libraries.ipynb"
              }
            ]
          }
        }
      ]
    },
    {
      "cell_type": "code",
      "source": [
        "import os\n",
        "print(os.listdir('/content/drive/MyDrive/STF'))"
      ],
      "metadata": {
        "id": "ZyDBrPeG_gYM",
        "outputId": "df5805b3-4dad-497d-8499-adfaf17d89e8",
        "colab": {
          "base_uri": "https://localhost:8080/"
        }
      },
      "execution_count": 12,
      "outputs": [
        {
          "output_type": "stream",
          "name": "stdout",
          "text": [
            "['20220802_RGB_UAV.tif', '20220812_RGB_Planet.tif', '20220802_RGB_Planet.tif', 'starfm4py.py', 'parameters.py']\n"
          ]
        }
      ]
    },
    {
      "cell_type": "markdown",
      "source": [
        "## Applt STARFM to our data"
      ],
      "metadata": {
        "id": "Zf0z5DYk7jP0"
      }
    },
    {
      "cell_type": "code",
      "execution_count": null,
      "metadata": {
        "id": "Kqfk1qVsfdMa"
      },
      "outputs": [],
      "source": [
        "# Import required packages\n",
        "\n",
        "import time\n",
        "import rasterio\n",
        "import numpy as np\n",
        "#import starfm4py as stp\n",
        "import matplotlib.pyplot as plt\n",
        "#from parameters import (path, sizeSlices)\n",
        "\n",
        "\n",
        "\n",
        "start = time.time()\n",
        "\n",
        "#Set the path where the images are stored\n",
        "product = rasterio.open('/content/drive/MyDrive/STF/sim_STARFM_image.tif')\n",
        "profile = product.profile\n",
        "UAVt0 = rasterio.open('/content/drive/MyDrive/STF/20220802_UAV_RGB.tif').read(1)\n",
        "Planett0 = rasterio.open('/content/drive/MyDrive/STF/20220802_182705_60_247e_3B_AnalyticMS_SR_8b_harmonized_clip.tif').read(1)\n",
        "Planett1 = rasterio.open('/content/drive/MyDrive/STF/20220812_182402_83_2480_3B_AnalyticMS_SR_8b_harmonized_clip.tif').read(1)\n",
        "\n",
        "# Set the path where to store the temporary results\n",
        "path_fineRes_t0 = 'Temporary/Tiles_fineRes_t0/'\n",
        "path_coarseRes_t0 = 'Temporary/Tiles_coarseRes_t0/'\n",
        "path_coarseRes_t1 = 'Temporary/Tiles_fcoarseRes_t1/'\n",
        "\n",
        "# Flatten and store the moving window patches\n",
        "fine_image_t0_par = stp.partition(UAVT0, path_fineRes_t0)\n",
        "coarse_image_t0_par = stp.partition(Planett0, path_coarseRes_t0)\n",
        "coarse_image_t1_par = stp.partition(Planett1, path_coarseRes_t1)\n",
        "\n",
        "print (\"Done partitioning!\")\n",
        "\n",
        "# Stack the the moving window patches as dask arrays\n",
        "S2_t0 = stp.da_stack(path_fineRes_t0, UAVT0.shape)\n",
        "S3_t0 = stp.da_stack(path_coarseRes_t0, Planett0.shape)\n",
        "S3_t1 = stp.da_stack(path_coarseRes_t1, Planett1.shape)\n",
        "\n",
        "shape = (sizeSlices, UAVT0.shape[1])\n",
        "\n",
        "print (\"Done stacking!\")\n",
        "\n",
        "# Perform the prediction with STARFM\n",
        "for i in range(0, UAVT0.size-sizeSlices*shape[1]+1, sizeSlices*shape[1]):\n",
        "\n",
        "    fine_image_t0 = S2_t0[i:i+sizeSlices*shape[1],]\n",
        "    coarse_image_t0 = S3_t0[i:i+sizeSlices*shape[1],]\n",
        "    coarse_image_t1 = S3_t1[i:i+sizeSlices*shape[1],]\n",
        "    prediction = stp.starfm(fine_image_t0, coarse_image_t0, coarse_image_t1, profile, shape)\n",
        "\n",
        "    if i == 0:\n",
        "        predictions = prediction\n",
        "\n",
        "    else:\n",
        "        predictions = np.append(predictions, prediction, axis=0)\n",
        "\n",
        "\n",
        "# Write the results to a .tif file\n",
        "print ('Writing product...')\n",
        "profile = product.profile\n",
        "profile.update(dtype='float64', count=1) # number of bands\n",
        "file_name = path + 'prediction.tif'\n",
        "\n",
        "result = rasterio.open(file_name, 'w', **profile)\n",
        "result.write(predictions, 1)\n",
        "result.close()\n",
        "\n",
        "\n",
        "end = time.time()\n",
        "print (\"Done in\", (end - start)/60.0, \"minutes!\")\n",
        "\n",
        "# Display input and output\n",
        "plt.imshow(UAVT0)\n",
        "plt.gray()\n",
        "plt.show()\n",
        "plt.imshow(Planett0)\n",
        "plt.gray()\n",
        "plt.show()\n",
        "plt.imshow(Planett1)\n",
        "plt.gray()\n",
        "plt.show()\n",
        "plt.imshow(predictions)\n",
        "plt.gray()\n",
        "plt.show()"
      ]
    }
  ]
}