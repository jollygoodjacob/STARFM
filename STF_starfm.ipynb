{
  "nbformat": 4,
  "nbformat_minor": 0,
  "metadata": {
    "colab": {
      "provenance": [],
      "mount_file_id": "https://github.com/jollygoodjacob/STF/blob/main/STF_starfm.ipynb",
      "authorship_tag": "ABX9TyPjTvcbcOo95Uw66uTxY1ma",
      "include_colab_link": true
    },
    "kernelspec": {
      "name": "python3",
      "display_name": "Python 3"
    },
    "language_info": {
      "name": "python"
    }
  },
  "cells": [
    {
      "cell_type": "markdown",
      "metadata": {
        "id": "view-in-github",
        "colab_type": "text"
      },
      "source": [
        "<a href=\"https://colab.research.google.com/github/jollygoodjacob/STF/blob/main/STF_starfm.ipynb\" target=\"_parent\"><img src=\"https://colab.research.google.com/assets/colab-badge.svg\" alt=\"Open In Colab\"/></a>"
      ]
    },
    {
      "cell_type": "markdown",
      "source": [
        "# STARFM for Spatiotemporal Fusion\n",
        "\n",
        "This Google Colab script is an implementation of the STARFM spatiotemporal fusion method, modified for use with UAV and Planet data."
      ],
      "metadata": {
        "id": "OdkHWBzGfefU"
      }
    },
    {
      "cell_type": "markdown",
      "source": [
        "## Install required packages\n",
        "\n",
        "First, we need to install rasterio using pip, as Google Colab does not come preinstalled with this package."
      ],
      "metadata": {
        "id": "MNEQ5Qb-kMr6"
      }
    },
    {
      "cell_type": "code",
      "source": [
        "!pip install rasterio\n",
        "!pip install zarr\n",
        "!pip install dask.array"
      ],
      "metadata": {
        "id": "GnTZnTeUhIWD",
        "colab": {
          "base_uri": "https://localhost:8080/"
        },
        "outputId": "57bbef66-bf64-439a-b6a0-de97dde340e5"
      },
      "execution_count": 4,
      "outputs": [
        {
          "output_type": "stream",
          "name": "stdout",
          "text": [
            "Requirement already satisfied: rasterio in /usr/local/lib/python3.11/dist-packages (1.4.3)\n",
            "Requirement already satisfied: affine in /usr/local/lib/python3.11/dist-packages (from rasterio) (2.4.0)\n",
            "Requirement already satisfied: attrs in /usr/local/lib/python3.11/dist-packages (from rasterio) (25.3.0)\n",
            "Requirement already satisfied: certifi in /usr/local/lib/python3.11/dist-packages (from rasterio) (2025.1.31)\n",
            "Requirement already satisfied: click>=4.0 in /usr/local/lib/python3.11/dist-packages (from rasterio) (8.1.8)\n",
            "Requirement already satisfied: cligj>=0.5 in /usr/local/lib/python3.11/dist-packages (from rasterio) (0.7.2)\n",
            "Requirement already satisfied: numpy>=1.24 in /usr/local/lib/python3.11/dist-packages (from rasterio) (2.0.2)\n",
            "Requirement already satisfied: click-plugins in /usr/local/lib/python3.11/dist-packages (from rasterio) (1.1.1)\n",
            "Requirement already satisfied: pyparsing in /usr/local/lib/python3.11/dist-packages (from rasterio) (3.2.3)\n",
            "Collecting zarr\n",
            "  Downloading zarr-3.0.6-py3-none-any.whl.metadata (9.7 kB)\n",
            "Collecting donfig>=0.8 (from zarr)\n",
            "  Downloading donfig-0.8.1.post1-py3-none-any.whl.metadata (5.0 kB)\n",
            "Collecting numcodecs>=0.14 (from numcodecs[crc32c]>=0.14->zarr)\n",
            "  Downloading numcodecs-0.16.0-cp311-cp311-manylinux_2_17_x86_64.manylinux2014_x86_64.whl.metadata (3.0 kB)\n",
            "Requirement already satisfied: numpy>=1.25 in /usr/local/lib/python3.11/dist-packages (from zarr) (2.0.2)\n",
            "Requirement already satisfied: packaging>=22.0 in /usr/local/lib/python3.11/dist-packages (from zarr) (24.2)\n",
            "Requirement already satisfied: typing-extensions>=4.9 in /usr/local/lib/python3.11/dist-packages (from zarr) (4.13.1)\n",
            "Requirement already satisfied: pyyaml in /usr/local/lib/python3.11/dist-packages (from donfig>=0.8->zarr) (6.0.2)\n",
            "Collecting crc32c>=2.7 (from numcodecs[crc32c]>=0.14->zarr)\n",
            "  Downloading crc32c-2.7.1-cp311-cp311-manylinux_2_5_x86_64.manylinux1_x86_64.manylinux_2_17_x86_64.manylinux2014_x86_64.whl.metadata (7.3 kB)\n",
            "Downloading zarr-3.0.6-py3-none-any.whl (196 kB)\n",
            "\u001b[2K   \u001b[90m━━━━━━━━━━━━━━━━━━━━━━━━━━━━━━━━━━━━━━━━\u001b[0m \u001b[32m196.4/196.4 kB\u001b[0m \u001b[31m4.5 MB/s\u001b[0m eta \u001b[36m0:00:00\u001b[0m\n",
            "\u001b[?25hDownloading donfig-0.8.1.post1-py3-none-any.whl (21 kB)\n",
            "Downloading numcodecs-0.16.0-cp311-cp311-manylinux_2_17_x86_64.manylinux2014_x86_64.whl (8.8 MB)\n",
            "\u001b[2K   \u001b[90m━━━━━━━━━━━━━━━━━━━━━━━━━━━━━━━━━━━━━━━━\u001b[0m \u001b[32m8.8/8.8 MB\u001b[0m \u001b[31m64.8 MB/s\u001b[0m eta \u001b[36m0:00:00\u001b[0m\n",
            "\u001b[?25hDownloading crc32c-2.7.1-cp311-cp311-manylinux_2_5_x86_64.manylinux1_x86_64.manylinux_2_17_x86_64.manylinux2014_x86_64.whl (53 kB)\n",
            "\u001b[2K   \u001b[90m━━━━━━━━━━━━━━━━━━━━━━━━━━━━━━━━━━━━━━━━\u001b[0m \u001b[32m53.7/53.7 kB\u001b[0m \u001b[31m4.1 MB/s\u001b[0m eta \u001b[36m0:00:00\u001b[0m\n",
            "\u001b[?25hInstalling collected packages: numcodecs, donfig, crc32c, zarr\n",
            "Successfully installed crc32c-2.7.1 donfig-0.8.1.post1 numcodecs-0.16.0 zarr-3.0.6\n",
            "\u001b[31mERROR: Could not find a version that satisfies the requirement dask.array (from versions: none)\u001b[0m\u001b[31m\n",
            "\u001b[0m\u001b[31mERROR: No matching distribution found for dask.array\u001b[0m\u001b[31m\n",
            "\u001b[0m"
          ]
        }
      ]
    },
    {
      "cell_type": "markdown",
      "source": [
        "## Mount Google Drive\n",
        "\n",
        "Next, we want to mount our Google Drive so that we can share data with our Google Colab script. We need both the starfm4py.py and parameters.py functions that are required to run the script, as well as our UAV and Planet data."
      ],
      "metadata": {
        "id": "-BTI3hKwkbFr"
      }
    },
    {
      "cell_type": "code",
      "source": [
        "from google.colab import drive\n",
        "drive.mount('/content/drive',force_remount= True)"
      ],
      "metadata": {
        "id": "x3aRR18Wkaj6",
        "colab": {
          "base_uri": "https://localhost:8080/"
        },
        "outputId": "a044354b-4e12-4a86-c364-1715a6bb295d"
      },
      "execution_count": 2,
      "outputs": [
        {
          "output_type": "stream",
          "name": "stdout",
          "text": [
            "Mounted at /content/drive\n"
          ]
        }
      ]
    },
    {
      "cell_type": "markdown",
      "source": [],
      "metadata": {
        "id": "4g8zStr57mA0"
      }
    },
    {
      "cell_type": "code",
      "source": [
        "!cat /content/drive/MyDrive/STF/parameters.py"
      ],
      "metadata": {
        "colab": {
          "base_uri": "https://localhost:8080/"
        },
        "id": "TCnYfMxBABbD",
        "outputId": "ad8129d6-7c33-45ea-ffba-bc7632510fc2"
      },
      "execution_count": 14,
      "outputs": [
        {
          "output_type": "stream",
          "name": "stdout",
          "text": [
            "import numpy as np\r\n",
            "\r\n",
            "\r\n",
            "\r\n",
            "# Set the size of the moving window in which the search for similar pixels \r\n",
            "# is performed\r\n",
            "windowSize = 31\r\n",
            "\r\n",
            "# Set the path where the results should be stored\r\n",
            "path = 'STARFM_demo/'\r\n",
            "\r\n",
            "# Set to True if you want to decrease the sensitivity to the spectral distance\r\n",
            "logWeight = False\r\n",
            "\r\n",
            "# If more than one training pairs are used, set to True\r\n",
            "temp = False\r\n",
            "\r\n",
            "# The spatial impact factor is a constant defining the relative importance of \r\n",
            "# spatial distance (in meters)\r\n",
            "# Take a smaller value of the spatial impact factor for heterogeneous regions \r\n",
            "# (e.g. A = 150 m)\r\n",
            "spatImp = 150 \r\n",
            "\r\n",
            "# increasing the number of classes limits the number of similar pixels\r\n",
            "numberClass = 4 \r\n",
            "\r\n",
            "# Set the uncertainty value for the fine resolution sensor\r\n",
            "# https://earth.esa.int/web/sentinel/technical-guides/sentinel-2-msi/performance \r\n",
            "uncertaintyFineRes = 0.03\r\n",
            "\r\n",
            "# Set the uncertainty value for the coarse resolution sensor\r\n",
            "# https://sentinels.copernicus.eu/web/sentinel/technical-guides/sentinel-3-olci/validation\r\n",
            "uncertaintyCoarseRes = 0.03\r\n",
            "\r\n",
            "# Other global variables\r\n",
            "mid_idx = (windowSize**2)//2\r\n",
            "specUncertainty = np.sqrt(uncertaintyFineRes**2 + uncertaintyCoarseRes**2)\r\n",
            "tempUncertainty = np.sqrt(2*uncertaintyCoarseRes**2)\r\n",
            "\r\n",
            "# Set the size of the slices in which to divide the image\r\n",
            "# This number should be multiple of the image height and not bigger than it\r\n",
            "# Use bigger size for small images\r\n",
            "sizeSlices = 150\r\n",
            "\r\n",
            "\r\n",
            "\r\n",
            "\r\n",
            "\r\n"
          ]
        }
      ]
    },
    {
      "cell_type": "markdown",
      "source": [
        "## Load Functions for STARFM"
      ],
      "metadata": {
        "id": "4OP1XZnj7Jp1"
      }
    },
    {
      "cell_type": "code",
      "source": [
        "# Mount Google Drive\n",
        "from google.colab import drive\n",
        "drive.mount('/content/drive')\n",
        "\n",
        "# Add your module directory to the Python path\n",
        "import sys\n",
        "sys.path.append('/content/drive/MyDrive/STF')\n",
        "\n",
        "# (Optional) Set working directory for reading TIFFs or output\n",
        "import os\n",
        "os.chdir('/content/drive/MyDrive/STF')\n",
        "\n",
        "# Enable auto-reload of modules\n",
        "%load_ext autoreload\n",
        "%autoreload 2\n",
        "\n",
        "# Try importing your values\n",
        "from parameters import path, sizeSlices\n",
        "print(\"Imported values:\", path, sizeSlices)\n",
        "\n",
        "# Try importing the STARFM module\n",
        "import starfm4py as stp\n",
        "print(\"Successfully imported starfm4py\")\n"
      ],
      "metadata": {
        "colab": {
          "base_uri": "https://localhost:8080/"
        },
        "id": "bzemgrbj7ild",
        "outputId": "aebf0e26-e2f4-4097-95ba-52e7a49c5f2b"
      },
      "execution_count": null,
      "outputs": [
        {
          "output_type": "stream",
          "name": "stdout",
          "text": [
            "Drive already mounted at /content/drive; to attempt to forcibly remount, call drive.mount(\"/content/drive\", force_remount=True).\n"
          ]
        }
      ]
    },
    {
      "cell_type": "markdown",
      "source": [
        "## Apply STARFM to our data"
      ],
      "metadata": {
        "id": "Zf0z5DYk7jP0"
      }
    },
    {
      "cell_type": "code",
      "execution_count": null,
      "metadata": {
        "id": "Kqfk1qVsfdMa"
      },
      "outputs": [],
      "source": [
        "# Import required packages\n",
        "\n",
        "import time\n",
        "import rasterio\n",
        "import numpy as np\n",
        "#import starfm4py as stp\n",
        "import matplotlib.pyplot as plt\n",
        "#from parameters import (path, sizeSlices)\n",
        "\n",
        "\n",
        "\n",
        "start = time.time()\n",
        "\n",
        "#Set the path where the images are stored\n",
        "product = rasterio.open('/content/drive/MyDrive/STF/20220802_RGB_UAV.tif')\n",
        "profile = product.profile\n",
        "UAVt0 = rasterio.open('/content/drive/MyDrive/STF/20220802_RGB_UAV.tif').read(1)\n",
        "Planett0 = rasterio.open('/content/drive/MyDrive/STF/20220802_RGB_Planet.tif').read(1)\n",
        "Planett1 = rasterio.open('/content/drive/MyDrive/STF/20220812_RGB_Planet.tif').read(1)\n",
        "\n",
        "# Set the path where to store the temporary results\n",
        "path_fineRes_t0 = 'Temporary/Tiles_fineRes_t0/'\n",
        "path_coarseRes_t0 = 'Temporary/Tiles_coarseRes_t0/'\n",
        "path_coarseRes_t1 = 'Temporary/Tiles_fcoarseRes_t1/'\n",
        "\n",
        "# Flatten and store the moving window patches\n",
        "fine_image_t0_par = stp.partition(UAVt0, path_fineRes_t0)\n",
        "coarse_image_t0_par = stp.partition(Planett0, path_coarseRes_t0)\n",
        "coarse_image_t1_par = stp.partition(Planett1, path_coarseRes_t1)\n",
        "\n",
        "print (\"Done partitioning!\")\n",
        "\n",
        "# Stack the the moving window patches as dask arrays\n",
        "S2_t0 = stp.da_stack(path_fineRes_t0, UAVt0.shape)\n",
        "S3_t0 = stp.da_stack(path_coarseRes_t0, Planett0.shape)\n",
        "S3_t1 = stp.da_stack(path_coarseRes_t1, Planett1.shape)\n",
        "\n",
        "shape = (sizeSlices, UAVt0.shape[1])\n",
        "\n",
        "print (\"Done stacking!\")\n",
        "\n",
        "# Perform the prediction with STARFM\n",
        "for i in range(0, UAVt0.size-sizeSlices*shape[1]+1, sizeSlices*shape[1]):\n",
        "\n",
        "    fine_image_t0 = S2_t0[i:i+sizeSlices*shape[1],]\n",
        "    coarse_image_t0 = S3_t0[i:i+sizeSlices*shape[1],]\n",
        "    coarse_image_t1 = S3_t1[i:i+sizeSlices*shape[1],]\n",
        "    prediction = stp.starfm(fine_image_t0, coarse_image_t0, coarse_image_t1, profile, shape)\n",
        "\n",
        "    if i == 0:\n",
        "        predictions = prediction\n",
        "\n",
        "    else:\n",
        "        predictions = np.append(predictions, prediction, axis=0)\n",
        "\n",
        "\n",
        "# Write the results to a .tif file\n",
        "print ('Writing product...')\n",
        "profile = product.profile\n",
        "profile.update(dtype='float64', count=1) # number of bands\n",
        "file_name = path + 'prediction.tif'\n",
        "\n",
        "result = rasterio.open(file_name, 'w', **profile)\n",
        "result.write(predictions, 1)\n",
        "result.close()\n",
        "\n",
        "\n",
        "end = time.time()\n",
        "print (\"Done in\", (end - start)/60.0, \"minutes!\")\n",
        "\n",
        "# Display input and output\n",
        "plt.imshow(UAVt0)\n",
        "plt.gray()\n",
        "plt.show()\n",
        "plt.imshow(Planett0)\n",
        "plt.gray()\n",
        "plt.show()\n",
        "plt.imshow(Planett1)\n",
        "plt.gray()\n",
        "plt.show()\n",
        "plt.imshow(predictions)\n",
        "plt.gray()\n",
        "plt.show()"
      ]
    }
  ]
}